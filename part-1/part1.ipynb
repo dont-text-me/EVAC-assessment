{
 "cells": [
  {
   "cell_type": "markdown",
   "id": "d167d1a226306bfd",
   "metadata": {
    "collapsed": false
   },
   "source": [
    "# Looking at the data"
   ]
  },
  {
   "cell_type": "code",
   "execution_count": 1,
   "id": "initial_id",
   "metadata": {
    "ExecuteTime": {
     "end_time": "2024-03-13T22:04:18.698741Z",
     "start_time": "2024-03-13T22:04:17.837501Z"
    },
    "collapsed": true
   },
   "outputs": [
    {
     "data": {
      "text/html": "<div>\n<style scoped>\n    .dataframe tbody tr th:only-of-type {\n        vertical-align: middle;\n    }\n\n    .dataframe tbody tr th {\n        vertical-align: top;\n    }\n\n    .dataframe thead th {\n        text-align: right;\n    }\n</style>\n<table border=\"1\" class=\"dataframe\">\n  <thead>\n    <tr style=\"text-align: right;\">\n      <th></th>\n      <th>Date</th>\n      <th>Count</th>\n      <th>Hour</th>\n      <th>Temp</th>\n      <th>Humidity</th>\n      <th>Wind speed</th>\n      <th>Visibility</th>\n      <th>Dew point</th>\n      <th>Sunshine</th>\n      <th>Rain</th>\n      <th>Snow</th>\n      <th>Season</th>\n      <th>Public Holiday</th>\n      <th>HireAvailable</th>\n    </tr>\n  </thead>\n  <tbody>\n    <tr>\n      <th>0</th>\n      <td>01/12/2017</td>\n      <td>254</td>\n      <td>0</td>\n      <td>-5.2</td>\n      <td>37</td>\n      <td>2.2</td>\n      <td>2000</td>\n      <td>-17.6</td>\n      <td>0.0</td>\n      <td>0.0</td>\n      <td>0.0</td>\n      <td>Winter</td>\n      <td>No</td>\n      <td>Yes</td>\n    </tr>\n    <tr>\n      <th>1</th>\n      <td>01/12/2017</td>\n      <td>204</td>\n      <td>1</td>\n      <td>-5.5</td>\n      <td>38</td>\n      <td>0.8</td>\n      <td>2000</td>\n      <td>-17.6</td>\n      <td>0.0</td>\n      <td>0.0</td>\n      <td>0.0</td>\n      <td>Winter</td>\n      <td>No</td>\n      <td>Yes</td>\n    </tr>\n    <tr>\n      <th>2</th>\n      <td>01/12/2017</td>\n      <td>173</td>\n      <td>2</td>\n      <td>-6.0</td>\n      <td>39</td>\n      <td>1.0</td>\n      <td>2000</td>\n      <td>-17.7</td>\n      <td>0.0</td>\n      <td>0.0</td>\n      <td>0.0</td>\n      <td>Winter</td>\n      <td>No</td>\n      <td>Yes</td>\n    </tr>\n    <tr>\n      <th>3</th>\n      <td>01/12/2017</td>\n      <td>107</td>\n      <td>3</td>\n      <td>-6.2</td>\n      <td>40</td>\n      <td>0.9</td>\n      <td>2000</td>\n      <td>-17.6</td>\n      <td>0.0</td>\n      <td>0.0</td>\n      <td>0.0</td>\n      <td>Winter</td>\n      <td>No</td>\n      <td>Yes</td>\n    </tr>\n    <tr>\n      <th>4</th>\n      <td>01/12/2017</td>\n      <td>78</td>\n      <td>4</td>\n      <td>-6.0</td>\n      <td>36</td>\n      <td>2.3</td>\n      <td>2000</td>\n      <td>-18.6</td>\n      <td>0.0</td>\n      <td>0.0</td>\n      <td>0.0</td>\n      <td>Winter</td>\n      <td>No</td>\n      <td>Yes</td>\n    </tr>\n  </tbody>\n</table>\n</div>",
      "text/plain": "         Date  Count  Hour  Temp  Humidity  Wind speed  Visibility  Dew point  \\\n0  01/12/2017    254     0  -5.2        37         2.2        2000      -17.6   \n1  01/12/2017    204     1  -5.5        38         0.8        2000      -17.6   \n2  01/12/2017    173     2  -6.0        39         1.0        2000      -17.7   \n3  01/12/2017    107     3  -6.2        40         0.9        2000      -17.6   \n4  01/12/2017     78     4  -6.0        36         2.3        2000      -18.6   \n\n   Sunshine  Rain  Snow  Season Public Holiday HireAvailable  \n0       0.0   0.0   0.0  Winter             No           Yes  \n1       0.0   0.0   0.0  Winter             No           Yes  \n2       0.0   0.0   0.0  Winter             No           Yes  \n3       0.0   0.0   0.0  Winter             No           Yes  \n4       0.0   0.0   0.0  Winter             No           Yes  "
     },
     "execution_count": 1,
     "metadata": {},
     "output_type": "execute_result"
    }
   ],
   "source": [
    "import random\n",
    "\n",
    "import pandas as pd\n",
    "\n",
    "data = pd.read_csv(\"data/eScooterDemand.csv\")\n",
    "data.head()"
   ]
  },
  {
   "cell_type": "markdown",
   "id": "22f3e0452fd44d20",
   "metadata": {
    "collapsed": false
   },
   "source": [
    "# Convert boolean variables to binary values"
   ]
  },
  {
   "cell_type": "code",
   "execution_count": 2,
   "id": "a394ad3670e21d59",
   "metadata": {
    "ExecuteTime": {
     "end_time": "2024-03-13T22:04:23.476391Z",
     "start_time": "2024-03-13T22:04:23.463451Z"
    },
    "collapsed": false
   },
   "outputs": [
    {
     "data": {
      "text/html": "<div>\n<style scoped>\n    .dataframe tbody tr th:only-of-type {\n        vertical-align: middle;\n    }\n\n    .dataframe tbody tr th {\n        vertical-align: top;\n    }\n\n    .dataframe thead th {\n        text-align: right;\n    }\n</style>\n<table border=\"1\" class=\"dataframe\">\n  <thead>\n    <tr style=\"text-align: right;\">\n      <th></th>\n      <th>Date</th>\n      <th>Count</th>\n      <th>Hour</th>\n      <th>Temp</th>\n      <th>Humidity</th>\n      <th>Wind speed</th>\n      <th>Visibility</th>\n      <th>Dew point</th>\n      <th>Sunshine</th>\n      <th>Rain</th>\n      <th>Snow</th>\n      <th>Season</th>\n      <th>Public Holiday</th>\n      <th>HireAvailable</th>\n    </tr>\n  </thead>\n  <tbody>\n    <tr>\n      <th>0</th>\n      <td>01/12/2017</td>\n      <td>254</td>\n      <td>0</td>\n      <td>-5.2</td>\n      <td>37</td>\n      <td>2.2</td>\n      <td>2000</td>\n      <td>-17.6</td>\n      <td>0.0</td>\n      <td>0.0</td>\n      <td>0.0</td>\n      <td>Winter</td>\n      <td>0</td>\n      <td>1</td>\n    </tr>\n    <tr>\n      <th>1</th>\n      <td>01/12/2017</td>\n      <td>204</td>\n      <td>1</td>\n      <td>-5.5</td>\n      <td>38</td>\n      <td>0.8</td>\n      <td>2000</td>\n      <td>-17.6</td>\n      <td>0.0</td>\n      <td>0.0</td>\n      <td>0.0</td>\n      <td>Winter</td>\n      <td>0</td>\n      <td>1</td>\n    </tr>\n    <tr>\n      <th>2</th>\n      <td>01/12/2017</td>\n      <td>173</td>\n      <td>2</td>\n      <td>-6.0</td>\n      <td>39</td>\n      <td>1.0</td>\n      <td>2000</td>\n      <td>-17.7</td>\n      <td>0.0</td>\n      <td>0.0</td>\n      <td>0.0</td>\n      <td>Winter</td>\n      <td>0</td>\n      <td>1</td>\n    </tr>\n    <tr>\n      <th>3</th>\n      <td>01/12/2017</td>\n      <td>107</td>\n      <td>3</td>\n      <td>-6.2</td>\n      <td>40</td>\n      <td>0.9</td>\n      <td>2000</td>\n      <td>-17.6</td>\n      <td>0.0</td>\n      <td>0.0</td>\n      <td>0.0</td>\n      <td>Winter</td>\n      <td>0</td>\n      <td>1</td>\n    </tr>\n    <tr>\n      <th>4</th>\n      <td>01/12/2017</td>\n      <td>78</td>\n      <td>4</td>\n      <td>-6.0</td>\n      <td>36</td>\n      <td>2.3</td>\n      <td>2000</td>\n      <td>-18.6</td>\n      <td>0.0</td>\n      <td>0.0</td>\n      <td>0.0</td>\n      <td>Winter</td>\n      <td>0</td>\n      <td>1</td>\n    </tr>\n  </tbody>\n</table>\n</div>",
      "text/plain": "         Date  Count  Hour  Temp  Humidity  Wind speed  Visibility  Dew point  \\\n0  01/12/2017    254     0  -5.2        37         2.2        2000      -17.6   \n1  01/12/2017    204     1  -5.5        38         0.8        2000      -17.6   \n2  01/12/2017    173     2  -6.0        39         1.0        2000      -17.7   \n3  01/12/2017    107     3  -6.2        40         0.9        2000      -17.6   \n4  01/12/2017     78     4  -6.0        36         2.3        2000      -18.6   \n\n   Sunshine  Rain  Snow  Season  Public Holiday  HireAvailable  \n0       0.0   0.0   0.0  Winter               0              1  \n1       0.0   0.0   0.0  Winter               0              1  \n2       0.0   0.0   0.0  Winter               0              1  \n3       0.0   0.0   0.0  Winter               0              1  \n4       0.0   0.0   0.0  Winter               0              1  "
     },
     "execution_count": 2,
     "metadata": {},
     "output_type": "execute_result"
    }
   ],
   "source": [
    "data[\"Public Holiday\"] = data[\"Public Holiday\"].apply(lambda x: 1 if x == \"Yes\" else 0)\n",
    "data[\"HireAvailable\"] = data[\"HireAvailable\"].apply(lambda x: 1 if x == \"Yes\" else 0)\n",
    "data.head()"
   ]
  },
  {
   "cell_type": "markdown",
   "id": "1f8033a2b6c54d16",
   "metadata": {
    "collapsed": false
   },
   "source": [
    "# One-hot encode season data"
   ]
  },
  {
   "cell_type": "code",
   "execution_count": 3,
   "id": "3ca458cf3a2f258a",
   "metadata": {
    "ExecuteTime": {
     "end_time": "2024-03-13T22:04:25.265731Z",
     "start_time": "2024-03-13T22:04:25.247290Z"
    },
    "collapsed": false
   },
   "outputs": [
    {
     "data": {
      "text/html": "<div>\n<style scoped>\n    .dataframe tbody tr th:only-of-type {\n        vertical-align: middle;\n    }\n\n    .dataframe tbody tr th {\n        vertical-align: top;\n    }\n\n    .dataframe thead th {\n        text-align: right;\n    }\n</style>\n<table border=\"1\" class=\"dataframe\">\n  <thead>\n    <tr style=\"text-align: right;\">\n      <th></th>\n      <th>Date</th>\n      <th>Count</th>\n      <th>Hour</th>\n      <th>Temp</th>\n      <th>Humidity</th>\n      <th>Wind speed</th>\n      <th>Visibility</th>\n      <th>Dew point</th>\n      <th>Sunshine</th>\n      <th>Rain</th>\n      <th>Snow</th>\n      <th>Public Holiday</th>\n      <th>HireAvailable</th>\n      <th>Winter</th>\n      <th>Autumn</th>\n      <th>Spring</th>\n      <th>Summer</th>\n    </tr>\n  </thead>\n  <tbody>\n    <tr>\n      <th>0</th>\n      <td>01/12/2017</td>\n      <td>254</td>\n      <td>0</td>\n      <td>-5.2</td>\n      <td>37</td>\n      <td>2.2</td>\n      <td>2000</td>\n      <td>-17.6</td>\n      <td>0.0</td>\n      <td>0.0</td>\n      <td>0.0</td>\n      <td>0</td>\n      <td>1</td>\n      <td>1</td>\n      <td>0</td>\n      <td>0</td>\n      <td>0</td>\n    </tr>\n    <tr>\n      <th>1</th>\n      <td>01/12/2017</td>\n      <td>204</td>\n      <td>1</td>\n      <td>-5.5</td>\n      <td>38</td>\n      <td>0.8</td>\n      <td>2000</td>\n      <td>-17.6</td>\n      <td>0.0</td>\n      <td>0.0</td>\n      <td>0.0</td>\n      <td>0</td>\n      <td>1</td>\n      <td>1</td>\n      <td>0</td>\n      <td>0</td>\n      <td>0</td>\n    </tr>\n    <tr>\n      <th>2</th>\n      <td>01/12/2017</td>\n      <td>173</td>\n      <td>2</td>\n      <td>-6.0</td>\n      <td>39</td>\n      <td>1.0</td>\n      <td>2000</td>\n      <td>-17.7</td>\n      <td>0.0</td>\n      <td>0.0</td>\n      <td>0.0</td>\n      <td>0</td>\n      <td>1</td>\n      <td>1</td>\n      <td>0</td>\n      <td>0</td>\n      <td>0</td>\n    </tr>\n    <tr>\n      <th>3</th>\n      <td>01/12/2017</td>\n      <td>107</td>\n      <td>3</td>\n      <td>-6.2</td>\n      <td>40</td>\n      <td>0.9</td>\n      <td>2000</td>\n      <td>-17.6</td>\n      <td>0.0</td>\n      <td>0.0</td>\n      <td>0.0</td>\n      <td>0</td>\n      <td>1</td>\n      <td>1</td>\n      <td>0</td>\n      <td>0</td>\n      <td>0</td>\n    </tr>\n    <tr>\n      <th>4</th>\n      <td>01/12/2017</td>\n      <td>78</td>\n      <td>4</td>\n      <td>-6.0</td>\n      <td>36</td>\n      <td>2.3</td>\n      <td>2000</td>\n      <td>-18.6</td>\n      <td>0.0</td>\n      <td>0.0</td>\n      <td>0.0</td>\n      <td>0</td>\n      <td>1</td>\n      <td>1</td>\n      <td>0</td>\n      <td>0</td>\n      <td>0</td>\n    </tr>\n  </tbody>\n</table>\n</div>",
      "text/plain": "         Date  Count  Hour  Temp  Humidity  Wind speed  Visibility  Dew point  \\\n0  01/12/2017    254     0  -5.2        37         2.2        2000      -17.6   \n1  01/12/2017    204     1  -5.5        38         0.8        2000      -17.6   \n2  01/12/2017    173     2  -6.0        39         1.0        2000      -17.7   \n3  01/12/2017    107     3  -6.2        40         0.9        2000      -17.6   \n4  01/12/2017     78     4  -6.0        36         2.3        2000      -18.6   \n\n   Sunshine  Rain  Snow  Public Holiday  HireAvailable  Winter  Autumn  \\\n0       0.0   0.0   0.0               0              1       1       0   \n1       0.0   0.0   0.0               0              1       1       0   \n2       0.0   0.0   0.0               0              1       1       0   \n3       0.0   0.0   0.0               0              1       1       0   \n4       0.0   0.0   0.0               0              1       1       0   \n\n   Spring  Summer  \n0       0       0  \n1       0       0  \n2       0       0  \n3       0       0  \n4       0       0  "
     },
     "execution_count": 3,
     "metadata": {},
     "output_type": "execute_result"
    }
   ],
   "source": [
    "for season in [\"Winter\", \"Autumn\", \"Spring\", \"Summer\"]:\n",
    "    data[season] = data[\"Season\"].apply(lambda x: 1 if x == season else 0)\n",
    "del data[\"Season\"]\n",
    "data.head()"
   ]
  },
  {
   "cell_type": "markdown",
   "id": "62f1b4ed38220524",
   "metadata": {
    "collapsed": false
   },
   "source": [
    "# Break date column into day, month and year columns"
   ]
  },
  {
   "cell_type": "code",
   "execution_count": 4,
   "id": "6a2651809cf17402",
   "metadata": {
    "ExecuteTime": {
     "end_time": "2024-03-13T22:04:26.629868Z",
     "start_time": "2024-03-13T22:04:26.614996Z"
    },
    "collapsed": false
   },
   "outputs": [
    {
     "data": {
      "text/html": "<div>\n<style scoped>\n    .dataframe tbody tr th:only-of-type {\n        vertical-align: middle;\n    }\n\n    .dataframe tbody tr th {\n        vertical-align: top;\n    }\n\n    .dataframe thead th {\n        text-align: right;\n    }\n</style>\n<table border=\"1\" class=\"dataframe\">\n  <thead>\n    <tr style=\"text-align: right;\">\n      <th></th>\n      <th>Count</th>\n      <th>Hour</th>\n      <th>Temp</th>\n      <th>Humidity</th>\n      <th>Wind speed</th>\n      <th>Visibility</th>\n      <th>Dew point</th>\n      <th>Sunshine</th>\n      <th>Rain</th>\n      <th>Snow</th>\n      <th>Public Holiday</th>\n      <th>HireAvailable</th>\n      <th>Winter</th>\n      <th>Autumn</th>\n      <th>Spring</th>\n      <th>Summer</th>\n      <th>day</th>\n      <th>month</th>\n      <th>year</th>\n    </tr>\n  </thead>\n  <tbody>\n    <tr>\n      <th>0</th>\n      <td>254</td>\n      <td>0</td>\n      <td>-5.2</td>\n      <td>37</td>\n      <td>2.2</td>\n      <td>2000</td>\n      <td>-17.6</td>\n      <td>0.0</td>\n      <td>0.0</td>\n      <td>0.0</td>\n      <td>0</td>\n      <td>1</td>\n      <td>1</td>\n      <td>0</td>\n      <td>0</td>\n      <td>0</td>\n      <td>1</td>\n      <td>12</td>\n      <td>2017</td>\n    </tr>\n    <tr>\n      <th>1</th>\n      <td>204</td>\n      <td>1</td>\n      <td>-5.5</td>\n      <td>38</td>\n      <td>0.8</td>\n      <td>2000</td>\n      <td>-17.6</td>\n      <td>0.0</td>\n      <td>0.0</td>\n      <td>0.0</td>\n      <td>0</td>\n      <td>1</td>\n      <td>1</td>\n      <td>0</td>\n      <td>0</td>\n      <td>0</td>\n      <td>1</td>\n      <td>12</td>\n      <td>2017</td>\n    </tr>\n    <tr>\n      <th>2</th>\n      <td>173</td>\n      <td>2</td>\n      <td>-6.0</td>\n      <td>39</td>\n      <td>1.0</td>\n      <td>2000</td>\n      <td>-17.7</td>\n      <td>0.0</td>\n      <td>0.0</td>\n      <td>0.0</td>\n      <td>0</td>\n      <td>1</td>\n      <td>1</td>\n      <td>0</td>\n      <td>0</td>\n      <td>0</td>\n      <td>1</td>\n      <td>12</td>\n      <td>2017</td>\n    </tr>\n    <tr>\n      <th>3</th>\n      <td>107</td>\n      <td>3</td>\n      <td>-6.2</td>\n      <td>40</td>\n      <td>0.9</td>\n      <td>2000</td>\n      <td>-17.6</td>\n      <td>0.0</td>\n      <td>0.0</td>\n      <td>0.0</td>\n      <td>0</td>\n      <td>1</td>\n      <td>1</td>\n      <td>0</td>\n      <td>0</td>\n      <td>0</td>\n      <td>1</td>\n      <td>12</td>\n      <td>2017</td>\n    </tr>\n    <tr>\n      <th>4</th>\n      <td>78</td>\n      <td>4</td>\n      <td>-6.0</td>\n      <td>36</td>\n      <td>2.3</td>\n      <td>2000</td>\n      <td>-18.6</td>\n      <td>0.0</td>\n      <td>0.0</td>\n      <td>0.0</td>\n      <td>0</td>\n      <td>1</td>\n      <td>1</td>\n      <td>0</td>\n      <td>0</td>\n      <td>0</td>\n      <td>1</td>\n      <td>12</td>\n      <td>2017</td>\n    </tr>\n  </tbody>\n</table>\n</div>",
      "text/plain": "   Count  Hour  Temp  Humidity  Wind speed  Visibility  Dew point  Sunshine  \\\n0    254     0  -5.2        37         2.2        2000      -17.6       0.0   \n1    204     1  -5.5        38         0.8        2000      -17.6       0.0   \n2    173     2  -6.0        39         1.0        2000      -17.7       0.0   \n3    107     3  -6.2        40         0.9        2000      -17.6       0.0   \n4     78     4  -6.0        36         2.3        2000      -18.6       0.0   \n\n   Rain  Snow  Public Holiday  HireAvailable  Winter  Autumn  Spring  Summer  \\\n0   0.0   0.0               0              1       1       0       0       0   \n1   0.0   0.0               0              1       1       0       0       0   \n2   0.0   0.0               0              1       1       0       0       0   \n3   0.0   0.0               0              1       1       0       0       0   \n4   0.0   0.0               0              1       1       0       0       0   \n\n   day  month  year  \n0    1     12  2017  \n1    1     12  2017  \n2    1     12  2017  \n3    1     12  2017  \n4    1     12  2017  "
     },
     "execution_count": 4,
     "metadata": {},
     "output_type": "execute_result"
    }
   ],
   "source": [
    "data[\"day\"] = data[\"Date\"].apply(lambda x: int(x.split(\"/\")[0]))\n",
    "data[\"month\"] = data[\"Date\"].apply(lambda x: int(x.split(\"/\")[1]))\n",
    "data[\"year\"] = data[\"Date\"].apply(lambda x: int(x.split(\"/\")[2]))\n",
    "del data[\"Date\"]\n",
    "data.head()"
   ]
  },
  {
   "cell_type": "markdown",
   "id": "6f34223b41ab4b67",
   "metadata": {
    "collapsed": false
   },
   "source": [
    "# Normalize float columns"
   ]
  },
  {
   "cell_type": "code",
   "execution_count": 5,
   "id": "67b9535aa65d57d1",
   "metadata": {
    "ExecuteTime": {
     "end_time": "2024-03-13T22:04:28.689688Z",
     "start_time": "2024-03-13T22:04:28.267341Z"
    },
    "collapsed": false
   },
   "outputs": [],
   "source": [
    "from sklearn.preprocessing import minmax_scale\n",
    "\n",
    "data[\n",
    "    [\n",
    "        \"Temp\",\n",
    "        \"Humidity\",\n",
    "        \"Wind speed\",\n",
    "        \"Visibility\",\n",
    "        \"Dew point\",\n",
    "        \"Sunshine\",\n",
    "        \"Rain\",\n",
    "        \"Snow\",\n",
    "        \"day\",\n",
    "        \"month\",\n",
    "        \"year\",\n",
    "    ]\n",
    "] = minmax_scale(\n",
    "    data[\n",
    "        [\n",
    "            \"Temp\",\n",
    "            \"Humidity\",\n",
    "            \"Wind speed\",\n",
    "            \"Visibility\",\n",
    "            \"Dew point\",\n",
    "            \"Sunshine\",\n",
    "            \"Rain\",\n",
    "            \"Snow\",\n",
    "            \"day\",\n",
    "            \"month\",\n",
    "            \"year\",\n",
    "        ]\n",
    "    ]\n",
    ")"
   ]
  },
  {
   "cell_type": "markdown",
   "id": "b17a379680a0b1c7",
   "metadata": {
    "collapsed": false
   },
   "source": [
    "## Remove hireAvailable column - if scheme is not running, it does not make sense for any scooters to be rented"
   ]
  },
  {
   "cell_type": "code",
   "execution_count": 9,
   "id": "c7da208c6d9753af",
   "metadata": {
    "ExecuteTime": {
     "end_time": "2024-03-13T22:10:11.591767Z",
     "start_time": "2024-03-13T22:10:11.587015Z"
    },
    "collapsed": false
   },
   "outputs": [],
   "source": [
    "count_when_hire_not_available = data[data[\"HireAvailable\"] == 0]\n",
    "data_when_available = data.drop(data[data[\"HireAvailable\"] == 0].index)\n",
    "del data_when_available[\"HireAvailable\"]"
   ]
  },
  {
   "cell_type": "markdown",
   "id": "7667552c153ac433",
   "metadata": {
    "collapsed": false
   },
   "source": [
    "## Training the model"
   ]
  },
  {
   "cell_type": "code",
   "execution_count": 10,
   "id": "2f283a86d7be9f9a",
   "metadata": {
    "ExecuteTime": {
     "end_time": "2024-03-13T22:10:21.264514Z",
     "start_time": "2024-03-13T22:10:21.222091Z"
    },
    "collapsed": false
   },
   "outputs": [],
   "source": [
    "from sklearn.model_selection import train_test_split\n",
    "\n",
    "X, y = data_when_available.drop(\"Count\", axis=1), data_when_available[\"Count\"]\n",
    "X_train, X_test, y_train, y_test = train_test_split(\n",
    "    X, y, train_size=0.9\n",
    ")  # Train on the vast majority of data but leave a bit for testing the best individual"
   ]
  },
  {
   "cell_type": "code",
   "execution_count": 11,
   "id": "f4e803af2ca9033c",
   "metadata": {
    "ExecuteTime": {
     "end_time": "2024-03-13T22:10:27.219045Z",
     "start_time": "2024-03-13T22:10:27.204900Z"
    },
    "collapsed": false
   },
   "outputs": [],
   "source": [
    "from deap import base, creator, tools, gp\n",
    "from operator import mul, add, sub, attrgetter, neg\n",
    "# from math import log\n",
    "\n",
    "pset = gp.PrimitiveSet(\"main\", X.shape[1])\n",
    "\n",
    "pset.addPrimitive(mul, 2)\n",
    "pset.addPrimitive(add, 2)\n",
    "pset.addEphemeralConstant(\"randFloat\", random.random)\n",
    "pset.addPrimitive(sub, 2)\n",
    "pset.addPrimitive(neg, 1)\n",
    "# pset.addPrimitive(pow, 2)\n",
    "# pset.addPrimitive(log, 1)\n",
    "# pset.addPrimitive(cos, 1)\n",
    "# pset.addPrimitive(sin, 1)\n",
    "# pset.addPrimitive(sqrt, 1)\n",
    "# pset.addPrimitive(abs, 1)\n",
    "\n",
    "creator.create(\"FitnessMin\", base.Fitness, weights=(-1.0,))\n",
    "creator.create(\"Individual\", gp.PrimitiveTree, fitness=creator.FitnessMin)\n",
    "toolbox = base.Toolbox()\n",
    "toolbox.register(\"expr\", gp.genHalfAndHalf, pset=pset, min_=3, max_=8)\n",
    "toolbox.register(\"individual\", tools.initIterate, creator.Individual, toolbox.expr)\n",
    "toolbox.register(\"population\", tools.initRepeat, list, toolbox.individual)\n",
    "toolbox.register(\"compile\", gp.compile, pset=pset)\n",
    "toolbox.register(\n",
    "    \"select\",\n",
    "    tools.selDoubleTournament,\n",
    "    fitness_size=150,\n",
    "    parsimony_size=1.4,\n",
    "    fitness_first=True,\n",
    ")\n",
    "toolbox.register(\"mate\", gp.cxOnePoint)\n",
    "toolbox.register(\"expr_mut\", gp.genFull, min_=3, max_=5)\n",
    "toolbox.register(\"mutate\", gp.mutUniform, expr=toolbox.expr_mut, pset=pset)\n",
    "\n",
    "toolbox.decorate(\"mate\", gp.staticLimit(key=attrgetter(\"height\"), max_value=10))\n",
    "toolbox.decorate(\"mutate\", gp.staticLimit(key=attrgetter(\"height\"), max_value=10))\n",
    "\n",
    "pset.renameArguments(\n",
    "    **dict(\n",
    "        [\n",
    "            (f\"ARG{index}\", column.lower().replace(\" \", \"_\"))\n",
    "            for (index, column) in enumerate(X.columns)\n",
    "        ]\n",
    "    )\n",
    ")"
   ]
  },
  {
   "cell_type": "code",
   "execution_count": 12,
   "id": "ff5261b5e6faa738",
   "metadata": {
    "ExecuteTime": {
     "end_time": "2024-03-13T22:10:29.248445Z",
     "start_time": "2024-03-13T22:10:28.861878Z"
    },
    "collapsed": false
   },
   "outputs": [
    {
     "data": {
      "image/png": "[encoded data removed]",
      "text/plain": "<IPython.core.display.Image object>"
     },
     "execution_count": 12,
     "metadata": {},
     "output_type": "execute_result"
    }
   ],
   "source": [
    "import pygraphviz as pgv\n",
    "from IPython.display import Image\n",
    "\n",
    "ind = toolbox.individual()\n",
    "\n",
    "nodes, edges, labels = gp.graph(ind)\n",
    "tree = pgv.AGraph()\n",
    "tree.add_nodes_from(nodes)\n",
    "tree.add_edges_from(edges)\n",
    "tree.layout(prog=\"dot\")\n",
    "\n",
    "for i in nodes:\n",
    "    n = tree.get_node(i)\n",
    "    n.attr[\"label\"] = labels[i]\n",
    "\n",
    "treePlot = tree.draw(format=\"png\", prog=\"dot\")\n",
    "Image(treePlot)"
   ]
  },
  {
   "cell_type": "code",
   "execution_count": 13,
   "id": "93ca7146e59e4a01",
   "metadata": {
    "ExecuteTime": {
     "end_time": "2024-03-13T22:10:32.473073Z",
     "start_time": "2024-03-13T22:10:32.469836Z"
    },
    "collapsed": false
   },
   "outputs": [],
   "source": [
    "from sklearn.metrics import mean_squared_error\n",
    "import numpy as np\n",
    "\n",
    "\n",
    "def evaluate_mse(individual, test_inputs, test_values):\n",
    "    func = toolbox.compile(expr=individual)\n",
    "    try:\n",
    "        fitness = mean_squared_error(\n",
    "            test_values, [func(*list(row)) for row in np.array(test_inputs)]\n",
    "        )\n",
    "    except:  # noqa E722\n",
    "        return (1000000000,)\n",
    "    return (fitness,)\n",
    "\n",
    "\n",
    "toolbox.register(\"evaluate\", evaluate_mse, test_inputs=X_train, test_values=y_train)"
   ]
  },
  {
   "cell_type": "code",
   "execution_count": 14,
   "id": "aee7a8ef65d9e66",
   "metadata": {
    "ExecuteTime": {
     "end_time": "2024-03-13T22:10:34.317823Z",
     "start_time": "2024-03-13T22:10:34.314568Z"
    },
    "collapsed": false
   },
   "outputs": [],
   "source": [
    "stats_fit = tools.Statistics(lambda ind: ind.fitness.values)\n",
    "stats_size = tools.Statistics(len)\n",
    "mstats = tools.MultiStatistics(fitness=stats_fit, size=stats_size)\n",
    "mstats.register(\"avg\", np.mean)\n",
    "mstats.register(\"std\", np.std)\n",
    "mstats.register(\"min\", np.min)\n",
    "mstats.register(\"max\", np.max)"
   ]
  },
  {
   "cell_type": "code",
   "execution_count": null,
   "id": "205f62a13d3ef35f",
   "metadata": {
    "ExecuteTime": {
     "start_time": "2024-03-13T22:10:35.929633Z"
    },
    "collapsed": false,
    "is_executing": true
   },
   "outputs": [
    {
     "name": "stdout",
     "output_type": "stream",
     "text": [
      "   \t      \t                              fitness                              \t                      size                     \n",
      "   \t      \t-------------------------------------------------------------------\t-----------------------------------------------\n",
      "gen\tnevals\tavg       \tgen\tmax        \tmin   \tnevals\tstd        \tavg   \tgen\tmax\tmin\tnevals\tstd    \n",
      "0  \t500   \t1.8876e+07\t0  \t6.54296e+09\t484902\t500   \t3.00677e+08\t44.202\t0  \t378\t4  \t500   \t65.4443\n",
      "1  \t332   \t1.49823e+07\t1  \t5.10804e+09\t391175\t332   \t2.32193e+08\t74.068\t1  \t298\t6  \t332   \t78.4551\n",
      "2  \t294   \t5.01596e+06\t2  \t8.33832e+08\t378110\t294   \t4.37432e+07\t37.878\t2  \t103\t6  \t294   \t21.6135\n",
      "3  \t335   \t1.41752e+09\t3  \t1.75355e+11\t326944\t335   \t1.47497e+10\t73.912\t3  \t128\t18 \t335   \t14.0204\n",
      "4  \t318   \t2.11704e+09\t4  \t1.75763e+11\t295881\t318   \t1.88148e+10\t72.742\t4  \t135\t9  \t318   \t14.4554\n",
      "5  \t318   \t5.9263e+08 \t5  \t1.66958e+11\t293323\t318   \t8.11026e+09\t84.106\t5  \t144\t10 \t318   \t14.5466\n",
      "6  \t315   \t1.93793e+11\t6  \t9.60823e+13\t284935\t315   \t4.29262e+12\t82.548\t6  \t156\t22 \t315   \t15.3063\n",
      "7  \t321   \t6.33992e+08\t7  \t2.54013e+11\t281374\t321   \t1.14828e+10\t91.616\t7  \t168\t14 \t321   \t18.7862\n",
      "8  \t318   \t6.37902e+09\t8  \t2.59785e+12\t260906\t318   \t1.17055e+11\t113.8 \t8  \t181\t9  \t318   \t14.3864\n",
      "9  \t324   \t1.65569e+09\t9  \t3.19349e+11\t260339\t324   \t1.91738e+10\t104.348\t9  \t169\t15 \t324   \t22.4966\n",
      "10 \t350   \t9.78619e+08\t10 \t3.18647e+11\t259532\t350   \t1.47118e+10\t84.266 \t10 \t150\t18 \t350   \t17.8243\n",
      "11 \t343   \t1.24988e+10\t11 \t5.89497e+12\t257933\t343   \t2.63749e+11\t102.086\t11 \t164\t13 \t343   \t19.5209\n",
      "12 \t323   \t1.71979e+09\t12 \t5.28618e+11\t255179\t323   \t2.76791e+10\t103.484\t12 \t166\t19 \t323   \t15.3495\n",
      "13 \t318   \t5.42259e+07\t13 \t6.74773e+09\t252676\t318   \t5.00954e+08\t103.03 \t13 \t152\t25 \t318   \t13.8095\n",
      "14 \t341   \t1.56753e+08\t14 \t7.61517e+10\t248489\t341   \t3.40213e+09\t109.93 \t14 \t163\t18 \t341   \t13.5201\n",
      "15 \t345   \t1.91813e+08\t15 \t6.82259e+10\t247299\t345   \t3.17608e+09\t114.286\t15 \t161\t20 \t345   \t13.8159\n",
      "16 \t324   \t2.91348e+07\t16 \t7.68616e+09\t244946\t324   \t4.36252e+08\t138.74 \t16 \t192\t73 \t324   \t11.4921\n",
      "17 \t317   \t2.93671e+08\t17 \t1.4183e+11 \t244220\t317   \t6.33857e+09\t139.68 \t17 \t193\t41 \t317   \t13.0683\n",
      "18 \t322   \t5.13943e+08\t18 \t2.55376e+11\t242507\t322   \t1.14093e+10\t133.242\t18 \t186\t17 \t322   \t12.7053\n",
      "19 \t313   \t5.22701e+08\t19 \t2.57226e+11\t241491\t313   \t1.14924e+10\t135.616\t19 \t192\t5  \t313   \t16.5584\n",
      "20 \t301   \t5.45563e+08\t20 \t2.677e+11  \t239990\t301   \t1.19603e+10\t142.14 \t20 \t225\t17 \t301   \t23.7218\n",
      "21 \t312   \t2.38833e+10\t21 \t1.19367e+13\t239138\t312   \t5.33292e+11\t145.304\t21 \t226\t17 \t312   \t22.8272\n",
      "22 \t321   \t5.09011e+08\t22 \t2.52514e+11\t238384\t321   \t1.12814e+10\t133.204\t22 \t182\t11 \t321   \t16.2382\n",
      "23 \t302   \t1.06039e+09\t23 \t2.6599e+11 \t236422\t302   \t1.66545e+10\t136.992\t23 \t183\t15 \t302   \t13.6383\n",
      "24 \t342   \t1.84811e+08\t24 \t9.1623e+10 \t235551\t342   \t4.09335e+09\t137.222\t24 \t185\t15 \t342   \t15.1098\n",
      "25 \t347   \t1.33708e+06\t25 \t1.35641e+08\t234648\t347   \t1.06739e+07\t145.328\t25 \t205\t23 \t347   \t19.8022\n",
      "26 \t327   \t1.6802e+06 \t26 \t2.36705e+08\t230528\t327   \t1.49186e+07\t161.92 \t26 \t216\t78 \t327   \t14.1661\n",
      "27 \t311   \t3.29476e+06\t27 \t5.97593e+08\t229223\t311   \t3.054e+07  \t161.97 \t27 \t218\t12 \t311   \t16.5945\n",
      "28 \t328   \t3.30021e+06\t28 \t4.60941e+08\t228422\t328   \t2.65059e+07\t160.76 \t28 \t207\t27 \t328   \t11.4036\n",
      "29 \t340   \t1.35606e+07\t29 \t5.59922e+09\t227274\t340   \t2.51739e+08\t161.348\t29 \t218\t25 \t340   \t12.3849\n",
      "30 \t306   \t1.43094e+08\t30 \t7.07225e+10\t226596\t306   \t3.15961e+09\t160.4  \t30 \t204\t15 \t306   \t13.9254\n",
      "31 \t322   \t5.11672e+06\t31 \t1.16255e+09\t226400\t322   \t5.49936e+07\t163.798\t31 \t214\t17 \t322   \t15.2726\n",
      "32 \t333   \t3.29368e+06\t32 \t4.54456e+08\t225574\t333   \t2.63661e+07\t164.042\t32 \t229\t12 \t333   \t20.9514\n",
      "33 \t315   \t2.77274e+06\t33 \t2.50478e+08\t222664\t315   \t2.08683e+07\t163.742\t33 \t218\t11 \t315   \t16.0959\n",
      "34 \t316   \t1.78205e+08\t34 \t8.78064e+10\t222176\t316   \t3.92282e+09\t164.43 \t34 \t217\t15 \t316   \t19.3501\n",
      "35 \t321   \t2.71118e+06\t35 \t6.03396e+08\t221684\t321   \t3.02349e+07\t165.108\t35 \t205\t86 \t321   \t9.51926\n",
      "36 \t331   \t3.18267e+06\t36 \t6.11008e+08\t221475\t331   \t3.2019e+07 \t163.11 \t36 \t213\t21 \t331   \t15.6667\n",
      "37 \t325   \t3.78715e+06\t37 \t7.21608e+08\t221068\t325   \t3.61592e+07\t166.342\t37 \t225\t15 \t325   \t20.6616\n",
      "38 \t301   \t3.55512e+06\t38 \t6.23501e+08\t220617\t301   \t3.30524e+07\t168.83 \t38 \t217\t16 \t301   \t16.512 \n",
      "39 \t313   \t1.20259e+08\t39 \t5.87955e+10\t220181\t313   \t2.62685e+09\t169.842\t39 \t203\t14 \t313   \t16.1448\n",
      "40 \t323   \t7.67089e+07\t40 \t3.14294e+10\t219931\t323   \t1.42571e+09\t164.918\t40 \t220\t21 \t323   \t15.3192\n",
      "41 \t312   \t6.12159e+08\t41 \t3.0341e+11 \t219382\t312   \t1.35552e+10\t167.136\t41 \t219\t15 \t312   \t15.6551\n",
      "42 \t317   \t2.08411e+06\t42 \t4.67746e+08\t219264\t317   \t2.34838e+07\t172.504\t42 \t232\t8  \t317   \t18.1898\n",
      "43 \t340   \t8.99089e+06\t43 \t2.41785e+09\t218852\t340   \t1.11394e+08\t176.46 \t43 \t227\t15 \t340   \t12.247 \n",
      "44 \t309   \t1.96295e+06\t44 \t1.58469e+08\t218493\t309   \t1.48709e+07\t176.796\t44 \t238\t15 \t309   \t12.3425\n",
      "45 \t317   \t2.70413e+06\t45 \t1.76895e+08\t218243\t317   \t1.9349e+07 \t176.062\t45 \t231\t25 \t317   \t13.8872\n",
      "46 \t319   \t8.0686e+06 \t46 \t1.6211e+09 \t217238\t319   \t9.56674e+07\t175.658\t46 \t227\t42 \t319   \t13.0966\n",
      "47 \t340   \t2.06688e+06\t47 \t2.15754e+08\t217022\t340   \t1.63857e+07\t175.684\t47 \t250\t9  \t340   \t17.6193\n",
      "48 \t322   \t2.2623e+07 \t48 \t1.00702e+10\t216860\t322   \t4.50497e+08\t177.546\t48 \t236\t14 \t322   \t17.567 \n",
      "49 \t331   \t3.75489e+06\t49 \t4.01582e+08\t216143\t331   \t3.03692e+07\t179.93 \t49 \t242\t32 \t331   \t14.2196\n",
      "50 \t337   \t1.35918e+07\t50 \t5.18881e+09\t216018\t337   \t2.34138e+08\t183.906\t50 \t239\t16 \t337   \t16.9944\n",
      "51 \t308   \t3.36826e+06\t51 \t1.2572e+09 \t215770\t308   \t5.68416e+07\t184.808\t51 \t230\t15 \t308   \t13.0321\n",
      "52 \t311   \t8.11324e+06\t52 \t2.28764e+09\t215515\t311   \t1.04714e+08\t186.908\t52 \t243\t20 \t311   \t17.8004\n",
      "53 \t339   \t9.40029e+06\t53 \t2.3987e+09 \t215187\t339   \t1.30052e+08\t190.786\t53 \t239\t19 \t339   \t19.4271\n",
      "54 \t347   \t6.50141e+08\t54 \t3.1986e+11 \t214895\t347   \t1.42902e+10\t199.492\t54 \t256\t15 \t347   \t17.8861\n",
      "55 \t343   \t2.03572e+09\t55 \t3.57546e+11\t214604\t343   \t2.61922e+10\t198.246\t55 \t273\t15 \t343   \t16.2276\n",
      "56 \t335   \t4.59005e+07\t56 \t2.1571e+10 \t214109\t335   \t9.63857e+08\t195.75 \t56 \t247\t14 \t335   \t17.0363\n",
      "57 \t308   \t6.87101e+08\t57 \t3.42846e+11\t213962\t308   \t1.53171e+10\t196.14 \t57 \t230\t14 \t308   \t18.3939\n",
      "58 \t313   \t1.75047e+06\t58 \t1.92899e+08\t213525\t313   \t1.41906e+07\t198.64 \t58 \t256\t17 \t313   \t17.8961\n",
      "59 \t304   \t3.14438e+06\t59 \t5.82708e+08\t213440\t304   \t3.71943e+07\t201.776\t59 \t256\t29 \t304   \t18.024 \n",
      "60 \t335   \t6.69295e+08\t60 \t3.33088e+11\t213209\t335   \t1.48811e+10\t205.872\t60 \t267\t12 \t335   \t21.0886\n",
      "61 \t339   \t1.77095e+06\t61 \t2.47272e+08\t212771\t339   \t1.59456e+07\t208.564\t61 \t257\t25 \t339   \t17.3553\n",
      "62 \t336   \t2.5973e+06 \t62 \t1.99861e+08\t212648\t336   \t1.89254e+07\t209.594\t62 \t241\t9  \t336   \t16.9111\n",
      "63 \t330   \t2.82799e+06\t63 \t4.4273e+08 \t212069\t330   \t2.59593e+07\t209.128\t63 \t257\t28 \t330   \t18.3363\n",
      "64 \t325   \t6.66612e+08\t64 \t3.31929e+11\t211831\t325   \t1.48293e+10\t210.578\t64 \t247\t6  \t325   \t19.4296\n",
      "65 \t329   \t1.29182e+09\t65 \t6.39573e+11\t211516\t329   \t2.85746e+10\t211.056\t65 \t253\t26 \t329   \t17.2223\n",
      "66 \t329   \t8.69076e+06\t66 \t1.65751e+09\t211343\t329   \t9.18882e+07\t211.822\t66 \t261\t130\t329   \t13.0428\n",
      "67 \t330   \t6.62527e+08\t67 \t3.28985e+11\t211095\t330   \t1.46978e+10\t210.24 \t67 \t243\t35 \t330   \t15.0173\n",
      "68 \t316   \t6.83553e+06\t68 \t1.96217e+09\t210843\t316   \t9.37224e+07\t215.562\t68 \t259\t26 \t316   \t16.025 \n",
      "69 \t301   \t5.21068e+06\t69 \t1.29382e+09\t210805\t301   \t6.24588e+07\t217.658\t69 \t273\t53 \t301   \t12.636 \n",
      "70 \t309   \t1.02485e+06\t70 \t1.67906e+08\t210591\t309   \t1.05601e+07\t221.6  \t70 \t261\t26 \t309   \t14.2784\n",
      "71 \t338   \t2.101e+06  \t71 \t2.45819e+08\t209729\t338   \t1.80831e+07\t222.268\t71 \t280\t29 \t338   \t15.5774\n",
      "72 \t337   \t1.39356e+06\t72 \t2.86597e+08\t209318\t337   \t1.56963e+07\t221.554\t72 \t268\t26 \t337   \t23.595 \n",
      "73 \t346   \t3.43607e+06\t73 \t4.03833e+08\t207451\t346   \t2.69625e+07\t225.446\t73 \t273\t34 \t346   \t16.8478\n",
      "74 \t312   \t5.55227e+06\t74 \t1.55703e+09\t207007\t312   \t7.18652e+07\t230.792\t74 \t281\t28 \t312   \t16.3595\n",
      "75 \t292   \t1.62182e+06\t75 \t1.8405e+08 \t206670\t292   \t1.37061e+07\t240.598\t75 \t293\t50 \t292   \t17.8824\n",
      "76 \t304   \t1.34116e+06\t76 \t1.84925e+08\t206216\t304   \t1.35929e+07\t248.57 \t76 \t298\t26 \t304   \t24.5988\n",
      "77 \t313   \t783438     \t77 \t1.90111e+08\t206063\t313   \t9.20728e+06\t250.142\t77 \t309\t15 \t313   \t18.2747\n",
      "78 \t331   \t5.11169e+06\t78 \t8.60188e+08\t205819\t331   \t4.66258e+07\t251.492\t78 \t296\t34 \t331   \t19.2058\n",
      "79 \t302   \t2.16261e+06\t79 \t6.77547e+08\t205227\t302   \t3.25552e+07\t252.158\t79 \t295\t26 \t302   \t20.894 \n",
      "80 \t325   \t3.0039e+06 \t80 \t4.19659e+08\t204786\t325   \t2.95429e+07\t254.036\t80 \t295\t27 \t325   \t20.7529\n",
      "81 \t305   \t1.21135e+06\t81 \t1.92236e+08\t204598\t305   \t1.18023e+07\t258.326\t81 \t282\t121\t305   \t15.2795\n",
      "82 \t335   \t637545     \t82 \t1.68003e+08\t204401\t335   \t7.56339e+06\t259.802\t82 \t305\t14 \t335   \t22.9538\n",
      "83 \t308   \t1.68246e+06\t83 \t2.019e+08  \t204193\t308   \t1.60046e+07\t260.592\t83 \t304\t123\t308   \t15.3445\n",
      "84 \t315   \t6.94341e+06\t84 \t2.35513e+09\t203842\t315   \t1.07474e+08\t259.278\t84 \t304\t41 \t315   \t19.4079\n",
      "85 \t324   \t931919     \t85 \t2.00212e+08\t203649\t324   \t1.07478e+07\t260.82 \t85 \t297\t109\t324   \t14.6586\n",
      "86 \t332   \t1.8648e+06 \t86 \t3.01168e+08\t203600\t332   \t1.7663e+07 \t260.436\t86 \t302\t169\t332   \t9.69257\n",
      "87 \t333   \t1.80869e+06\t87 \t3.55378e+08\t203475\t333   \t2.02943e+07\t260.83 \t87 \t311\t26 \t333   \t16.9258\n",
      "88 \t336   \t2.41573e+06\t88 \t8.0812e+08 \t202841\t336   \t3.73831e+07\t261.232\t88 \t307\t125\t336   \t12.2425\n",
      "89 \t335   \t7.44657e+08\t89 \t3.49455e+11\t202641\t335   \t1.56347e+10\t265.348\t89 \t324\t14 \t335   \t22.3231\n",
      "90 \t313   \t3.29511e+06\t90 \t9.84007e+08\t202268\t313   \t4.58904e+07\t263.95 \t90 \t319\t26 \t313   \t19.3351\n",
      "91 \t326   \t1.86005e+06\t91 \t1.99963e+08\t202126\t326   \t1.56658e+07\t268.432\t91 \t310\t54 \t326   \t18.1787\n",
      "92 \t305   \t5.71037e+06\t92 \t1.5222e+09 \t201842\t305   \t7.19581e+07\t274.666\t92 \t342\t12 \t305   \t21.614 \n",
      "93 \t326   \t1.66445e+06\t93 \t4.80204e+08\t201686\t326   \t2.33815e+07\t278.934\t93 \t330\t26 \t326   \t24.7218\n",
      "94 \t319   \t2.30067e+06\t94 \t4.29526e+08\t201268\t319   \t2.78891e+07\t286.4  \t94 \t333\t26 \t319   \t21.3427\n",
      "95 \t325   \t577423     \t95 \t1.3581e+08 \t200471\t325   \t6.11876e+06\t288.99 \t95 \t342\t62 \t325   \t17.1091\n",
      "96 \t312   \t7.14344e+08\t96 \t3.56055e+11\t200352\t312   \t1.59072e+10\t294.97 \t96 \t334\t27 \t312   \t23.6065\n",
      "97 \t319   \t8.06991e+06\t97 \t2.0792e+09 \t200008\t319   \t1.05137e+08\t307.218\t97 \t351\t22 \t319   \t21.2491\n",
      "98 \t327   \t693945     \t98 \t1.87697e+08\t199633\t327   \t8.43342e+06\t312.554\t98 \t364\t136\t327   \t12.1248\n",
      "99 \t316   \t4.03607e+06\t99 \t6.8098e+08 \t199526\t316   \t4.19536e+07\t313.252\t99 \t362\t26 \t316   \t23.313 \n",
      "100\t330   \t1.66587e+06\t100\t6.45972e+08\t198320\t330   \t2.89058e+07\t320.07 \t100\t350\t225\t330   \t9.28445\n",
      "101\t328   \t1.15221e+06\t101\t2.76925e+08\t197908\t328   \t1.3759e+07 \t319.356\t101\t359\t16 \t328   \t19.8119\n",
      "102\t310   \t784106     \t102\t1.22779e+08\t197390\t310   \t6.68046e+06\t317.504\t102\t345\t8  \t310   \t18.6938\n",
      "103\t320   \t1.72054e+06\t103\t3.07454e+08\t197061\t320   \t1.78077e+07\t318.616\t103\t348\t51 \t320   \t21.259 \n",
      "104\t311   \t259315     \t104\t1.52743e+07\t196853\t311   \t694403     \t321.194\t104\t350\t32 \t311   \t19.9383\n",
      "105\t321   \t2.10969e+06\t105\t3.5509e+08 \t196570\t321   \t2.07518e+07\t321.706\t105\t366\t28 \t321   \t21.1873\n",
      "106\t319   \t2.63437e+06\t106\t6.7293e+08 \t196259\t319   \t3.28017e+07\t324.588\t106\t379\t155\t319   \t14.8148\n",
      "107\t325   \t2.61141e+06\t107\t7.91614e+08\t195963\t325   \t3.67811e+07\t328.196\t107\t360\t79 \t325   \t16.8316\n",
      "108\t350   \t1.9445e+06 \t108\t1.80675e+08\t195726\t350   \t1.60755e+07\t327.398\t108\t364\t12 \t350   \t23.6793\n",
      "109\t328   \t1.1867e+06 \t109\t2.57878e+08\t195634\t328   \t1.40354e+07\t329.992\t109\t375\t35 \t328   \t25.9484\n",
      "110\t345   \t1.08394e+08\t110\t5.30288e+10\t195227\t345   \t2.36914e+09\t332.99 \t110\t378\t31 \t345   \t20.6495\n",
      "111\t330   \t4.78325e+06\t111\t7.71849e+08\t195045\t330   \t5.34377e+07\t333.744\t111\t390\t8  \t330   \t24.931 \n",
      "112\t314   \t1.22992e+08\t112\t6.10507e+10\t194839\t314   \t2.72751e+09\t336.862\t112\t374\t30 \t314   \t17.6155\n",
      "113\t327   \t1.09855e+06\t113\t2.35783e+08\t194683\t327   \t1.28299e+07\t337.654\t113\t392\t28 \t327   \t19.6961\n",
      "114\t309   \t1.00129e+06\t114\t1.79485e+08\t194508\t309   \t1.11434e+07\t340.27 \t114\t382\t26 \t309   \t26.2167\n",
      "115\t296   \t1.60085e+06\t115\t1.99707e+08\t194220\t296   \t1.53206e+07\t344.988\t115\t377\t28 \t296   \t22.1933\n",
      "116\t308   \t1.02886e+06\t116\t3.8516e+08 \t194087\t308   \t1.72198e+07\t344.668\t116\t376\t47 \t308   \t19.5982\n",
      "117\t330   \t360675     \t117\t6.36259e+07\t193755\t330   \t2.84676e+06\t346.318\t117\t403\t14 \t330   \t25.9482\n",
      "118\t339   \t3.98244e+06\t118\t7.25215e+08\t193147\t339   \t4.28389e+07\t349.416\t118\t381\t26 \t339   \t25.5837\n",
      "119\t336   \t1.22823e+06\t119\t2.82082e+08\t193009\t336   \t1.52136e+07\t353.308\t119\t407\t165\t336   \t17.252 \n",
      "120\t347   \t4.83266e+06\t120\t1.92169e+09\t192270\t347   \t8.64311e+07\t356.098\t120\t410\t39 \t347   \t33.0556\n"
     ]
    }
   ],
   "source": [
    "from deap import algorithms\n",
    "\n",
    "pop = toolbox.population(n=500)\n",
    "hof = tools.HallOfFame(1)\n",
    "\n",
    "pop, log = algorithms.eaSimple(\n",
    "    pop,\n",
    "    toolbox,\n",
    "    cxpb=0.5,\n",
    "    mutpb=0.3,\n",
    "    ngen=150,\n",
    "    stats=mstats,\n",
    "    halloffame=hof,\n",
    "    verbose=True,\n",
    ")"
   ]
  },
  {
   "cell_type": "code",
   "execution_count": null,
   "id": "3b6bc8d815dcba9c",
   "metadata": {
    "collapsed": false,
    "is_executing": true
   },
   "outputs": [],
   "source": [
    "import matplotlib.pyplot as plt\n",
    "\n",
    "gen = log.chapters[\"fitness\"].select(\"gen\")\n",
    "_min = log.chapters[\"fitness\"].select(\"min\")\n",
    "_max = log.chapters[\"fitness\"].select(\"max\")\n",
    "avgs = log.chapters[\"fitness\"].select(\"avg\")\n",
    "stds = log.chapters[\"fitness\"].select(\"std\")\n",
    "plt.rc(\"axes\", labelsize=14)\n",
    "plt.rc(\"xtick\", labelsize=14)\n",
    "plt.rc(\"ytick\", labelsize=14)\n",
    "plt.rc(\"legend\", fontsize=14)\n",
    "\n",
    "fig, ax1 = plt.subplots()\n",
    "line1 = ax1.plot(gen, _min)\n",
    "ax1.set_xlabel(\"Generation\")\n",
    "ax1.set_ylabel(\"Fitness\")"
   ]
  },
  {
   "cell_type": "code",
   "execution_count": null,
   "id": "e33928df266f1d3d",
   "metadata": {
    "collapsed": false,
    "is_executing": true
   },
   "outputs": [],
   "source": [
    "indv = tools.selBest(pop, 1)[0]\n",
    "print(indv)"
   ]
  },
  {
   "cell_type": "code",
   "execution_count": null,
   "id": "cef1f8884b61805c",
   "metadata": {
    "collapsed": false,
    "is_executing": true
   },
   "outputs": [],
   "source": [
    "nodes, edges, labels = gp.graph(indv)\n",
    "\n",
    "tree = pgv.AGraph()\n",
    "tree.add_nodes_from(nodes)\n",
    "tree.add_edges_from(edges)\n",
    "tree.layout(prog=\"dot\")\n",
    "\n",
    "for i in nodes:\n",
    "    n = tree.get_node(i)\n",
    "    n.attr[\"label\"] = labels[i]\n",
    "\n",
    "treePlot = tree.draw(format=\"png\", prog=\"dot\")\n",
    "Image(treePlot)"
   ]
  },
  {
   "cell_type": "code",
   "execution_count": null,
   "id": "abfc1289c6c4e3f6",
   "metadata": {
    "collapsed": false,
    "is_executing": true
   },
   "outputs": [],
   "source": [
    "from collections import OrderedDict\n",
    "from torch import nn, from_numpy, float32\n",
    "\n",
    "model = nn.Sequential(\n",
    "    OrderedDict(\n",
    "        [\n",
    "            (\"fc1\", nn.Linear(X.shape[1], 128)),\n",
    "            (\"relu1\", nn.ReLU()),\n",
    "            (\"fc2\", nn.Linear(128, 64)),\n",
    "            (\"relu2\", nn.ReLU()),\n",
    "            (\"fc3\", nn.Linear(64, 1)),\n",
    "        ]\n",
    "    )\n",
    ")\n",
    "\n",
    "x = from_numpy(np.array(X_train, dtype=float32))\n",
    "model(x)"
   ]
  }
 ],
 "metadata": {
  "kernelspec": {
   "display_name": "Python 3",
   "language": "python",
   "name": "python3"
  },
  "language_info": {
   "codemirror_mode": {
    "name": "ipython",
    "version": 2
   },
   "file_extension": ".py",
   "mimetype": "text/x-python",
   "name": "python",
   "nbconvert_exporter": "python",
   "pygments_lexer": "ipython2",
   "version": "2.7.6"
  }
 },
 "nbformat": 4,
 "nbformat_minor": 5
}
