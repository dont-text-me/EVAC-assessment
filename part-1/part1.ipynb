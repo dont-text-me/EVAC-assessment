{
 "cells": [
  {
   "cell_type": "markdown",
   "id": "d167d1a226306bfd",
   "metadata": {
    "collapsed": false
   },
   "source": [
    "# Looking at the data"
   ]
  },
  {
   "cell_type": "code",
   "execution_count": 39,
   "id": "initial_id",
   "metadata": {
    "ExecuteTime": {
     "end_time": "2024-02-27T17:50:49.778894Z",
     "start_time": "2024-02-27T17:50:49.750978Z"
    },
    "collapsed": true
   },
   "outputs": [
    {
     "data": {
      "text/html": "<div>\n<style scoped>\n    .dataframe tbody tr th:only-of-type {\n        vertical-align: middle;\n    }\n\n    .dataframe tbody tr th {\n        vertical-align: top;\n    }\n\n    .dataframe thead th {\n        text-align: right;\n    }\n</style>\n<table border=\"1\" class=\"dataframe\">\n  <thead>\n    <tr style=\"text-align: right;\">\n      <th></th>\n      <th>Date</th>\n      <th>Count</th>\n      <th>Hour</th>\n      <th>Temp</th>\n      <th>Humidity</th>\n      <th>Wind speed</th>\n      <th>Visibility</th>\n      <th>Dew point</th>\n      <th>Sunshine</th>\n      <th>Rain</th>\n      <th>Snow</th>\n      <th>Season</th>\n      <th>Public Holiday</th>\n      <th>HireAvailable</th>\n    </tr>\n  </thead>\n  <tbody>\n    <tr>\n      <th>0</th>\n      <td>01/12/2017</td>\n      <td>254</td>\n      <td>0</td>\n      <td>-5.2</td>\n      <td>37</td>\n      <td>2.2</td>\n      <td>2000</td>\n      <td>-17.6</td>\n      <td>0.0</td>\n      <td>0.0</td>\n      <td>0.0</td>\n      <td>Winter</td>\n      <td>No</td>\n      <td>Yes</td>\n    </tr>\n    <tr>\n      <th>1</th>\n      <td>01/12/2017</td>\n      <td>204</td>\n      <td>1</td>\n      <td>-5.5</td>\n      <td>38</td>\n      <td>0.8</td>\n      <td>2000</td>\n      <td>-17.6</td>\n      <td>0.0</td>\n      <td>0.0</td>\n      <td>0.0</td>\n      <td>Winter</td>\n      <td>No</td>\n      <td>Yes</td>\n    </tr>\n    <tr>\n      <th>2</th>\n      <td>01/12/2017</td>\n      <td>173</td>\n      <td>2</td>\n      <td>-6.0</td>\n      <td>39</td>\n      <td>1.0</td>\n      <td>2000</td>\n      <td>-17.7</td>\n      <td>0.0</td>\n      <td>0.0</td>\n      <td>0.0</td>\n      <td>Winter</td>\n      <td>No</td>\n      <td>Yes</td>\n    </tr>\n    <tr>\n      <th>3</th>\n      <td>01/12/2017</td>\n      <td>107</td>\n      <td>3</td>\n      <td>-6.2</td>\n      <td>40</td>\n      <td>0.9</td>\n      <td>2000</td>\n      <td>-17.6</td>\n      <td>0.0</td>\n      <td>0.0</td>\n      <td>0.0</td>\n      <td>Winter</td>\n      <td>No</td>\n      <td>Yes</td>\n    </tr>\n    <tr>\n      <th>4</th>\n      <td>01/12/2017</td>\n      <td>78</td>\n      <td>4</td>\n      <td>-6.0</td>\n      <td>36</td>\n      <td>2.3</td>\n      <td>2000</td>\n      <td>-18.6</td>\n      <td>0.0</td>\n      <td>0.0</td>\n      <td>0.0</td>\n      <td>Winter</td>\n      <td>No</td>\n      <td>Yes</td>\n    </tr>\n  </tbody>\n</table>\n</div>",
      "text/plain": "         Date  Count  Hour  Temp  Humidity  Wind speed  Visibility  Dew point  \\\n0  01/12/2017    254     0  -5.2        37         2.2        2000      -17.6   \n1  01/12/2017    204     1  -5.5        38         0.8        2000      -17.6   \n2  01/12/2017    173     2  -6.0        39         1.0        2000      -17.7   \n3  01/12/2017    107     3  -6.2        40         0.9        2000      -17.6   \n4  01/12/2017     78     4  -6.0        36         2.3        2000      -18.6   \n\n   Sunshine  Rain  Snow  Season Public Holiday HireAvailable  \n0       0.0   0.0   0.0  Winter             No           Yes  \n1       0.0   0.0   0.0  Winter             No           Yes  \n2       0.0   0.0   0.0  Winter             No           Yes  \n3       0.0   0.0   0.0  Winter             No           Yes  \n4       0.0   0.0   0.0  Winter             No           Yes  "
     },
     "execution_count": 39,
     "metadata": {},
     "output_type": "execute_result"
    }
   ],
   "source": [
    "import pandas as pd\n",
    "\n",
    "data = pd.read_csv(\"data/eScooterDemand.csv\")\n",
    "data.head()"
   ]
  },
  {
   "cell_type": "markdown",
   "id": "22f3e0452fd44d20",
   "metadata": {
    "collapsed": false
   },
   "source": [
    "# Convert boolean variables to binary values"
   ]
  },
  {
   "cell_type": "code",
   "execution_count": 40,
   "id": "a394ad3670e21d59",
   "metadata": {
    "ExecuteTime": {
     "end_time": "2024-02-27T17:50:49.779523Z",
     "start_time": "2024-02-27T17:50:49.766270Z"
    },
    "collapsed": false
   },
   "outputs": [
    {
     "data": {
      "text/html": "<div>\n<style scoped>\n    .dataframe tbody tr th:only-of-type {\n        vertical-align: middle;\n    }\n\n    .dataframe tbody tr th {\n        vertical-align: top;\n    }\n\n    .dataframe thead th {\n        text-align: right;\n    }\n</style>\n<table border=\"1\" class=\"dataframe\">\n  <thead>\n    <tr style=\"text-align: right;\">\n      <th></th>\n      <th>Date</th>\n      <th>Count</th>\n      <th>Hour</th>\n      <th>Temp</th>\n      <th>Humidity</th>\n      <th>Wind speed</th>\n      <th>Visibility</th>\n      <th>Dew point</th>\n      <th>Sunshine</th>\n      <th>Rain</th>\n      <th>Snow</th>\n      <th>Season</th>\n      <th>Public Holiday</th>\n      <th>HireAvailable</th>\n    </tr>\n  </thead>\n  <tbody>\n    <tr>\n      <th>0</th>\n      <td>01/12/2017</td>\n      <td>254</td>\n      <td>0</td>\n      <td>-5.2</td>\n      <td>37</td>\n      <td>2.2</td>\n      <td>2000</td>\n      <td>-17.6</td>\n      <td>0.0</td>\n      <td>0.0</td>\n      <td>0.0</td>\n      <td>Winter</td>\n      <td>0</td>\n      <td>1</td>\n    </tr>\n    <tr>\n      <th>1</th>\n      <td>01/12/2017</td>\n      <td>204</td>\n      <td>1</td>\n      <td>-5.5</td>\n      <td>38</td>\n      <td>0.8</td>\n      <td>2000</td>\n      <td>-17.6</td>\n      <td>0.0</td>\n      <td>0.0</td>\n      <td>0.0</td>\n      <td>Winter</td>\n      <td>0</td>\n      <td>1</td>\n    </tr>\n    <tr>\n      <th>2</th>\n      <td>01/12/2017</td>\n      <td>173</td>\n      <td>2</td>\n      <td>-6.0</td>\n      <td>39</td>\n      <td>1.0</td>\n      <td>2000</td>\n      <td>-17.7</td>\n      <td>0.0</td>\n      <td>0.0</td>\n      <td>0.0</td>\n      <td>Winter</td>\n      <td>0</td>\n      <td>1</td>\n    </tr>\n    <tr>\n      <th>3</th>\n      <td>01/12/2017</td>\n      <td>107</td>\n      <td>3</td>\n      <td>-6.2</td>\n      <td>40</td>\n      <td>0.9</td>\n      <td>2000</td>\n      <td>-17.6</td>\n      <td>0.0</td>\n      <td>0.0</td>\n      <td>0.0</td>\n      <td>Winter</td>\n      <td>0</td>\n      <td>1</td>\n    </tr>\n    <tr>\n      <th>4</th>\n      <td>01/12/2017</td>\n      <td>78</td>\n      <td>4</td>\n      <td>-6.0</td>\n      <td>36</td>\n      <td>2.3</td>\n      <td>2000</td>\n      <td>-18.6</td>\n      <td>0.0</td>\n      <td>0.0</td>\n      <td>0.0</td>\n      <td>Winter</td>\n      <td>0</td>\n      <td>1</td>\n    </tr>\n  </tbody>\n</table>\n</div>",
      "text/plain": "         Date  Count  Hour  Temp  Humidity  Wind speed  Visibility  Dew point  \\\n0  01/12/2017    254     0  -5.2        37         2.2        2000      -17.6   \n1  01/12/2017    204     1  -5.5        38         0.8        2000      -17.6   \n2  01/12/2017    173     2  -6.0        39         1.0        2000      -17.7   \n3  01/12/2017    107     3  -6.2        40         0.9        2000      -17.6   \n4  01/12/2017     78     4  -6.0        36         2.3        2000      -18.6   \n\n   Sunshine  Rain  Snow  Season  Public Holiday  HireAvailable  \n0       0.0   0.0   0.0  Winter               0              1  \n1       0.0   0.0   0.0  Winter               0              1  \n2       0.0   0.0   0.0  Winter               0              1  \n3       0.0   0.0   0.0  Winter               0              1  \n4       0.0   0.0   0.0  Winter               0              1  "
     },
     "execution_count": 40,
     "metadata": {},
     "output_type": "execute_result"
    }
   ],
   "source": [
    "data[\"Public Holiday\"] = data[\"Public Holiday\"].apply(lambda x: 1 if x == \"Yes\" else 0)\n",
    "data[\"HireAvailable\"] = data[\"HireAvailable\"].apply(lambda x: 1 if x == \"Yes\" else 0)\n",
    "data.head()"
   ]
  },
  {
   "cell_type": "markdown",
   "id": "1f8033a2b6c54d16",
   "metadata": {
    "collapsed": false
   },
   "source": [
    "# One-hot encode season data"
   ]
  },
  {
   "cell_type": "code",
   "execution_count": 41,
   "id": "3ca458cf3a2f258a",
   "metadata": {
    "ExecuteTime": {
     "end_time": "2024-02-27T17:50:49.828539Z",
     "start_time": "2024-02-27T17:50:49.792582Z"
    },
    "collapsed": false
   },
   "outputs": [
    {
     "data": {
      "text/html": "<div>\n<style scoped>\n    .dataframe tbody tr th:only-of-type {\n        vertical-align: middle;\n    }\n\n    .dataframe tbody tr th {\n        vertical-align: top;\n    }\n\n    .dataframe thead th {\n        text-align: right;\n    }\n</style>\n<table border=\"1\" class=\"dataframe\">\n  <thead>\n    <tr style=\"text-align: right;\">\n      <th></th>\n      <th>Date</th>\n      <th>Count</th>\n      <th>Hour</th>\n      <th>Temp</th>\n      <th>Humidity</th>\n      <th>Wind speed</th>\n      <th>Visibility</th>\n      <th>Dew point</th>\n      <th>Sunshine</th>\n      <th>Rain</th>\n      <th>Snow</th>\n      <th>Public Holiday</th>\n      <th>HireAvailable</th>\n      <th>Winter</th>\n      <th>Autumn</th>\n      <th>Spring</th>\n      <th>Summer</th>\n    </tr>\n  </thead>\n  <tbody>\n    <tr>\n      <th>0</th>\n      <td>01/12/2017</td>\n      <td>254</td>\n      <td>0</td>\n      <td>-5.2</td>\n      <td>37</td>\n      <td>2.2</td>\n      <td>2000</td>\n      <td>-17.6</td>\n      <td>0.0</td>\n      <td>0.0</td>\n      <td>0.0</td>\n      <td>0</td>\n      <td>1</td>\n      <td>1</td>\n      <td>0</td>\n      <td>0</td>\n      <td>0</td>\n    </tr>\n    <tr>\n      <th>1</th>\n      <td>01/12/2017</td>\n      <td>204</td>\n      <td>1</td>\n      <td>-5.5</td>\n      <td>38</td>\n      <td>0.8</td>\n      <td>2000</td>\n      <td>-17.6</td>\n      <td>0.0</td>\n      <td>0.0</td>\n      <td>0.0</td>\n      <td>0</td>\n      <td>1</td>\n      <td>1</td>\n      <td>0</td>\n      <td>0</td>\n      <td>0</td>\n    </tr>\n    <tr>\n      <th>2</th>\n      <td>01/12/2017</td>\n      <td>173</td>\n      <td>2</td>\n      <td>-6.0</td>\n      <td>39</td>\n      <td>1.0</td>\n      <td>2000</td>\n      <td>-17.7</td>\n      <td>0.0</td>\n      <td>0.0</td>\n      <td>0.0</td>\n      <td>0</td>\n      <td>1</td>\n      <td>1</td>\n      <td>0</td>\n      <td>0</td>\n      <td>0</td>\n    </tr>\n    <tr>\n      <th>3</th>\n      <td>01/12/2017</td>\n      <td>107</td>\n      <td>3</td>\n      <td>-6.2</td>\n      <td>40</td>\n      <td>0.9</td>\n      <td>2000</td>\n      <td>-17.6</td>\n      <td>0.0</td>\n      <td>0.0</td>\n      <td>0.0</td>\n      <td>0</td>\n      <td>1</td>\n      <td>1</td>\n      <td>0</td>\n      <td>0</td>\n      <td>0</td>\n    </tr>\n    <tr>\n      <th>4</th>\n      <td>01/12/2017</td>\n      <td>78</td>\n      <td>4</td>\n      <td>-6.0</td>\n      <td>36</td>\n      <td>2.3</td>\n      <td>2000</td>\n      <td>-18.6</td>\n      <td>0.0</td>\n      <td>0.0</td>\n      <td>0.0</td>\n      <td>0</td>\n      <td>1</td>\n      <td>1</td>\n      <td>0</td>\n      <td>0</td>\n      <td>0</td>\n    </tr>\n  </tbody>\n</table>\n</div>",
      "text/plain": "         Date  Count  Hour  Temp  Humidity  Wind speed  Visibility  Dew point  \\\n0  01/12/2017    254     0  -5.2        37         2.2        2000      -17.6   \n1  01/12/2017    204     1  -5.5        38         0.8        2000      -17.6   \n2  01/12/2017    173     2  -6.0        39         1.0        2000      -17.7   \n3  01/12/2017    107     3  -6.2        40         0.9        2000      -17.6   \n4  01/12/2017     78     4  -6.0        36         2.3        2000      -18.6   \n\n   Sunshine  Rain  Snow  Public Holiday  HireAvailable  Winter  Autumn  \\\n0       0.0   0.0   0.0               0              1       1       0   \n1       0.0   0.0   0.0               0              1       1       0   \n2       0.0   0.0   0.0               0              1       1       0   \n3       0.0   0.0   0.0               0              1       1       0   \n4       0.0   0.0   0.0               0              1       1       0   \n\n   Spring  Summer  \n0       0       0  \n1       0       0  \n2       0       0  \n3       0       0  \n4       0       0  "
     },
     "execution_count": 41,
     "metadata": {},
     "output_type": "execute_result"
    }
   ],
   "source": [
    "for season in [\"Winter\", \"Autumn\", \"Spring\", \"Summer\"]:\n",
    "    data[season] = data[\"Season\"].apply(lambda x: 1 if x == season else 0)\n",
    "del data[\"Season\"]\n",
    "data.head()"
   ]
  },
  {
   "cell_type": "markdown",
   "id": "62f1b4ed38220524",
   "metadata": {
    "collapsed": false
   },
   "source": [
    "# Break date column into day, month and year columns"
   ]
  },
  {
   "cell_type": "code",
   "execution_count": 42,
   "id": "6a2651809cf17402",
   "metadata": {
    "ExecuteTime": {
     "end_time": "2024-02-27T17:50:50.011395Z",
     "start_time": "2024-02-27T17:50:49.805572Z"
    },
    "collapsed": false
   },
   "outputs": [
    {
     "data": {
      "text/html": "<div>\n<style scoped>\n    .dataframe tbody tr th:only-of-type {\n        vertical-align: middle;\n    }\n\n    .dataframe tbody tr th {\n        vertical-align: top;\n    }\n\n    .dataframe thead th {\n        text-align: right;\n    }\n</style>\n<table border=\"1\" class=\"dataframe\">\n  <thead>\n    <tr style=\"text-align: right;\">\n      <th></th>\n      <th>Count</th>\n      <th>Hour</th>\n      <th>Temp</th>\n      <th>Humidity</th>\n      <th>Wind speed</th>\n      <th>Visibility</th>\n      <th>Dew point</th>\n      <th>Sunshine</th>\n      <th>Rain</th>\n      <th>Snow</th>\n      <th>Public Holiday</th>\n      <th>HireAvailable</th>\n      <th>Winter</th>\n      <th>Autumn</th>\n      <th>Spring</th>\n      <th>Summer</th>\n      <th>day</th>\n      <th>month</th>\n      <th>year</th>\n    </tr>\n  </thead>\n  <tbody>\n    <tr>\n      <th>0</th>\n      <td>254</td>\n      <td>0</td>\n      <td>-5.2</td>\n      <td>37</td>\n      <td>2.2</td>\n      <td>2000</td>\n      <td>-17.6</td>\n      <td>0.0</td>\n      <td>0.0</td>\n      <td>0.0</td>\n      <td>0</td>\n      <td>1</td>\n      <td>1</td>\n      <td>0</td>\n      <td>0</td>\n      <td>0</td>\n      <td>1</td>\n      <td>12</td>\n      <td>2017</td>\n    </tr>\n    <tr>\n      <th>1</th>\n      <td>204</td>\n      <td>1</td>\n      <td>-5.5</td>\n      <td>38</td>\n      <td>0.8</td>\n      <td>2000</td>\n      <td>-17.6</td>\n      <td>0.0</td>\n      <td>0.0</td>\n      <td>0.0</td>\n      <td>0</td>\n      <td>1</td>\n      <td>1</td>\n      <td>0</td>\n      <td>0</td>\n      <td>0</td>\n      <td>1</td>\n      <td>12</td>\n      <td>2017</td>\n    </tr>\n    <tr>\n      <th>2</th>\n      <td>173</td>\n      <td>2</td>\n      <td>-6.0</td>\n      <td>39</td>\n      <td>1.0</td>\n      <td>2000</td>\n      <td>-17.7</td>\n      <td>0.0</td>\n      <td>0.0</td>\n      <td>0.0</td>\n      <td>0</td>\n      <td>1</td>\n      <td>1</td>\n      <td>0</td>\n      <td>0</td>\n      <td>0</td>\n      <td>1</td>\n      <td>12</td>\n      <td>2017</td>\n    </tr>\n    <tr>\n      <th>3</th>\n      <td>107</td>\n      <td>3</td>\n      <td>-6.2</td>\n      <td>40</td>\n      <td>0.9</td>\n      <td>2000</td>\n      <td>-17.6</td>\n      <td>0.0</td>\n      <td>0.0</td>\n      <td>0.0</td>\n      <td>0</td>\n      <td>1</td>\n      <td>1</td>\n      <td>0</td>\n      <td>0</td>\n      <td>0</td>\n      <td>1</td>\n      <td>12</td>\n      <td>2017</td>\n    </tr>\n    <tr>\n      <th>4</th>\n      <td>78</td>\n      <td>4</td>\n      <td>-6.0</td>\n      <td>36</td>\n      <td>2.3</td>\n      <td>2000</td>\n      <td>-18.6</td>\n      <td>0.0</td>\n      <td>0.0</td>\n      <td>0.0</td>\n      <td>0</td>\n      <td>1</td>\n      <td>1</td>\n      <td>0</td>\n      <td>0</td>\n      <td>0</td>\n      <td>1</td>\n      <td>12</td>\n      <td>2017</td>\n    </tr>\n  </tbody>\n</table>\n</div>",
      "text/plain": "   Count  Hour  Temp  Humidity  Wind speed  Visibility  Dew point  Sunshine  \\\n0    254     0  -5.2        37         2.2        2000      -17.6       0.0   \n1    204     1  -5.5        38         0.8        2000      -17.6       0.0   \n2    173     2  -6.0        39         1.0        2000      -17.7       0.0   \n3    107     3  -6.2        40         0.9        2000      -17.6       0.0   \n4     78     4  -6.0        36         2.3        2000      -18.6       0.0   \n\n   Rain  Snow  Public Holiday  HireAvailable  Winter  Autumn  Spring  Summer  \\\n0   0.0   0.0               0              1       1       0       0       0   \n1   0.0   0.0               0              1       1       0       0       0   \n2   0.0   0.0               0              1       1       0       0       0   \n3   0.0   0.0               0              1       1       0       0       0   \n4   0.0   0.0               0              1       1       0       0       0   \n\n   day  month  year  \n0    1     12  2017  \n1    1     12  2017  \n2    1     12  2017  \n3    1     12  2017  \n4    1     12  2017  "
     },
     "execution_count": 42,
     "metadata": {},
     "output_type": "execute_result"
    }
   ],
   "source": [
    "data[\"day\"] = data[\"Date\"].apply(lambda x: int(x.split(\"/\")[0]))\n",
    "data[\"month\"] = data[\"Date\"].apply(lambda x: int(x.split(\"/\")[1]))\n",
    "data[\"year\"] = data[\"Date\"].apply(lambda x: int(x.split(\"/\")[2]))\n",
    "del data[\"Date\"]\n",
    "data.head()"
   ]
  },
  {
   "cell_type": "markdown",
   "id": "6f34223b41ab4b67",
   "metadata": {
    "collapsed": false
   },
   "source": [
    "# Normalize float columns"
   ]
  },
  {
   "cell_type": "code",
   "execution_count": 43,
   "id": "67b9535aa65d57d1",
   "metadata": {
    "ExecuteTime": {
     "end_time": "2024-02-27T17:50:50.011992Z",
     "start_time": "2024-02-27T17:50:49.823450Z"
    },
    "collapsed": false
   },
   "outputs": [
    {
     "data": {
      "text/html": "<div>\n<style scoped>\n    .dataframe tbody tr th:only-of-type {\n        vertical-align: middle;\n    }\n\n    .dataframe tbody tr th {\n        vertical-align: top;\n    }\n\n    .dataframe thead th {\n        text-align: right;\n    }\n</style>\n<table border=\"1\" class=\"dataframe\">\n  <thead>\n    <tr style=\"text-align: right;\">\n      <th></th>\n      <th>Count</th>\n      <th>Hour</th>\n      <th>Temp</th>\n      <th>Humidity</th>\n      <th>Wind speed</th>\n      <th>Visibility</th>\n      <th>Dew point</th>\n      <th>Sunshine</th>\n      <th>Rain</th>\n      <th>Snow</th>\n      <th>Public Holiday</th>\n      <th>HireAvailable</th>\n      <th>Winter</th>\n      <th>Autumn</th>\n      <th>Spring</th>\n      <th>Summer</th>\n      <th>day</th>\n      <th>month</th>\n      <th>year</th>\n    </tr>\n  </thead>\n  <tbody>\n    <tr>\n      <th>0</th>\n      <td>254</td>\n      <td>0</td>\n      <td>0.220280</td>\n      <td>0.377551</td>\n      <td>0.297297</td>\n      <td>1.0</td>\n      <td>0.224913</td>\n      <td>0.0</td>\n      <td>0.0</td>\n      <td>0.0</td>\n      <td>0</td>\n      <td>1</td>\n      <td>1</td>\n      <td>0</td>\n      <td>0</td>\n      <td>0</td>\n      <td>1</td>\n      <td>12</td>\n      <td>2017</td>\n    </tr>\n    <tr>\n      <th>1</th>\n      <td>204</td>\n      <td>1</td>\n      <td>0.215035</td>\n      <td>0.387755</td>\n      <td>0.108108</td>\n      <td>1.0</td>\n      <td>0.224913</td>\n      <td>0.0</td>\n      <td>0.0</td>\n      <td>0.0</td>\n      <td>0</td>\n      <td>1</td>\n      <td>1</td>\n      <td>0</td>\n      <td>0</td>\n      <td>0</td>\n      <td>1</td>\n      <td>12</td>\n      <td>2017</td>\n    </tr>\n    <tr>\n      <th>2</th>\n      <td>173</td>\n      <td>2</td>\n      <td>0.206294</td>\n      <td>0.397959</td>\n      <td>0.135135</td>\n      <td>1.0</td>\n      <td>0.223183</td>\n      <td>0.0</td>\n      <td>0.0</td>\n      <td>0.0</td>\n      <td>0</td>\n      <td>1</td>\n      <td>1</td>\n      <td>0</td>\n      <td>0</td>\n      <td>0</td>\n      <td>1</td>\n      <td>12</td>\n      <td>2017</td>\n    </tr>\n    <tr>\n      <th>3</th>\n      <td>107</td>\n      <td>3</td>\n      <td>0.202797</td>\n      <td>0.408163</td>\n      <td>0.121622</td>\n      <td>1.0</td>\n      <td>0.224913</td>\n      <td>0.0</td>\n      <td>0.0</td>\n      <td>0.0</td>\n      <td>0</td>\n      <td>1</td>\n      <td>1</td>\n      <td>0</td>\n      <td>0</td>\n      <td>0</td>\n      <td>1</td>\n      <td>12</td>\n      <td>2017</td>\n    </tr>\n    <tr>\n      <th>4</th>\n      <td>78</td>\n      <td>4</td>\n      <td>0.206294</td>\n      <td>0.367347</td>\n      <td>0.310811</td>\n      <td>1.0</td>\n      <td>0.207612</td>\n      <td>0.0</td>\n      <td>0.0</td>\n      <td>0.0</td>\n      <td>0</td>\n      <td>1</td>\n      <td>1</td>\n      <td>0</td>\n      <td>0</td>\n      <td>0</td>\n      <td>1</td>\n      <td>12</td>\n      <td>2017</td>\n    </tr>\n  </tbody>\n</table>\n</div>",
      "text/plain": "   Count  Hour      Temp  Humidity  Wind speed  Visibility  Dew point  \\\n0    254     0  0.220280  0.377551    0.297297         1.0   0.224913   \n1    204     1  0.215035  0.387755    0.108108         1.0   0.224913   \n2    173     2  0.206294  0.397959    0.135135         1.0   0.223183   \n3    107     3  0.202797  0.408163    0.121622         1.0   0.224913   \n4     78     4  0.206294  0.367347    0.310811         1.0   0.207612   \n\n   Sunshine  Rain  Snow  Public Holiday  HireAvailable  Winter  Autumn  \\\n0       0.0   0.0   0.0               0              1       1       0   \n1       0.0   0.0   0.0               0              1       1       0   \n2       0.0   0.0   0.0               0              1       1       0   \n3       0.0   0.0   0.0               0              1       1       0   \n4       0.0   0.0   0.0               0              1       1       0   \n\n   Spring  Summer  day  month  year  \n0       0       0    1     12  2017  \n1       0       0    1     12  2017  \n2       0       0    1     12  2017  \n3       0       0    1     12  2017  \n4       0       0    1     12  2017  "
     },
     "execution_count": 43,
     "metadata": {},
     "output_type": "execute_result"
    }
   ],
   "source": [
    "from sklearn.preprocessing import minmax_scale\n",
    "\n",
    "data[\n",
    "    [\n",
    "        \"Temp\",\n",
    "        \"Humidity\",\n",
    "        \"Wind speed\",\n",
    "        \"Visibility\",\n",
    "        \"Dew point\",\n",
    "        \"Sunshine\",\n",
    "        \"Rain\",\n",
    "        \"Snow\",\n",
    "    ]\n",
    "] = minmax_scale(\n",
    "    data[\n",
    "        [\n",
    "            \"Temp\",\n",
    "            \"Humidity\",\n",
    "            \"Wind speed\",\n",
    "            \"Visibility\",\n",
    "            \"Dew point\",\n",
    "            \"Sunshine\",\n",
    "            \"Rain\",\n",
    "            \"Snow\",\n",
    "        ]\n",
    "    ]\n",
    ")\n",
    "data.head()"
   ]
  }
 ],
 "metadata": {
  "kernelspec": {
   "display_name": "Python 3",
   "language": "python",
   "name": "python3"
  },
  "language_info": {
   "codemirror_mode": {
    "name": "ipython",
    "version": 2
   },
   "file_extension": ".py",
   "mimetype": "text/x-python",
   "name": "python",
   "nbconvert_exporter": "python",
   "pygments_lexer": "ipython2",
   "version": "2.7.6"
  }
 },
 "nbformat": 4,
 "nbformat_minor": 5
}
