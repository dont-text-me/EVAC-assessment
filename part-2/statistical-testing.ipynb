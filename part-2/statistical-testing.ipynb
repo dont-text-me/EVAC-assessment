{
 "cells": [
  {
   "cell_type": "code",
   "execution_count": 78,
   "id": "initial_id",
   "metadata": {
    "ExecuteTime": {
     "end_time": "2024-05-22T11:06:48.284187Z",
     "start_time": "2024-05-22T11:06:48.020039Z"
    },
    "collapsed": true
   },
   "source": [
    "import numpy as np\n",
    "import seaborn as sns\n",
    "import matplotlib.pyplot as plt\n",
    "\n",
    "\n",
    "def process_netlogo_output(filename):\n",
    "    with open(filename, \"r\") as file:\n",
    "        raw_input = (\n",
    "            file.readlines()[0]\n",
    "            .rstrip()\n",
    "            .removeprefix(\" [\")\n",
    "            .replace(\" \", \", \")\n",
    "            .removesuffix(\"]\")\n",
    "        )\n",
    "    return list(np.fromstring(raw_input, sep=\",\"))\n",
    "\n",
    "\n",
    "experiments = {\n",
    "    \"Random behaviour\": process_netlogo_output(\"random-behaviour.txt\"),\n",
    "    \"8 hidden neurons\\n5% mutation rate\": process_netlogo_output(\n",
    "        \"neural-net-8-hidden-layer-5-percent-mut.txt\"\n",
    "    ),\n",
    "    \"8 hidden neurons\\n10% mutation rate\": process_netlogo_output(\n",
    "        \"neural-net-8-hidden-layer-10-percent-mut.txt\"\n",
    "    ),\n",
    "    \"8 hidden neurons\\n15% mutation rate\": process_netlogo_output(\n",
    "        \"neural-net-8-hidden-layer-15-percent-mut.txt\"\n",
    "    ),\n",
    "    \"16 hidden neurons\\n5% mutation rate\": process_netlogo_output(\n",
    "        \"neural-net-16-hidden-layer-5-percent-mut.txt\"\n",
    "    ),\n",
    "    \"16 hidden neurons\\n10% mutation rate\": process_netlogo_output(\n",
    "        \"neural-net-16-hidden-layer-10-percent-mut.txt\"\n",
    "    ),\n",
    "    \"16 hidden neurons\\n15% mutation rate\": process_netlogo_output(\n",
    "        \"neural-net-16-hidden-layer-15-percent-mut.txt\"\n",
    "    ),\n",
    "    \"8 hidden neurons\\n5% mutation rate, f3 fitness\": process_netlogo_output(\n",
    "        \"8-layer-net-5-percent-mut-f3-fitness.txt\"\n",
    "    ),\n",
    "    \"16 hidden neurons\\n5% mutation rate, f3 fitness\": process_netlogo_output(\n",
    "        \"16-layer-net-5-percent-mut-f3-fitness.txt\"\n",
    "    ),\n",
    "}\n",
    "fig, ax = plt.subplots(figsize=(10, 9))\n",
    "sns.boxplot(data=experiments, width=0.3, orient=\"h\")\n",
    "ax.set_xlabel(\"Herd score after 15 generations (lower is better)\")\n",
    "ax.set_title(\"Distribution of herd scores after 15 generations\")\n",
    "fig.savefig(\"experiment-hists.png\", bbox_inches=\"tight\")"
   ],
   "outputs": []
  },
  {
   "cell_type": "code",
   "execution_count": 10,
   "id": "ec15962cbe31637",
   "metadata": {
    "ExecuteTime": {
     "end_time": "2024-05-22T10:34:41.846010Z",
     "start_time": "2024-05-22T10:34:41.839431Z"
    }
   },
   "source": [
    "from scipy.stats import kruskal, mannwhitneyu\n",
    "\n",
    "print(kruskal(*experiments.values()).pvalue)\n",
    "\n",
    "\n",
    "print(\n",
    "    mannwhitneyu(\n",
    "        experiments[\"Random behaviour\"],\n",
    "        experiments[\"8 hidden neurons\\n5% mutation rate\"],\n",
    "    ).pvalue\n",
    ")\n",
    "print(\n",
    "    mannwhitneyu(\n",
    "        experiments[\"Random behaviour\"],\n",
    "        experiments[\"16 hidden neurons\\n5% mutation rate\"],\n",
    "    ).pvalue\n",
    ")\n",
    "print(\n",
    "    mannwhitneyu(\n",
    "        experiments[\"16 hidden neurons\\n5% mutation rate\"],\n",
    "        experiments[\"16 hidden neurons\\n5% mutation rate, f3 fitness\"],\n",
    "    ).pvalue\n",
    ")"
   ],
   "outputs": []
  },
  {
   "cell_type": "code",
   "execution_count": null,
   "id": "a4815ab62d9315b3",
   "metadata": {},
   "source": [],
   "outputs": []
  },
  {
   "cell_type": "code",
   "execution_count": 77,
   "id": "dbb528e3ee7d5608",
   "metadata": {
    "ExecuteTime": {
     "end_time": "2024-05-22T11:05:10.362143Z",
     "start_time": "2024-05-22T11:05:10.108430Z"
    }
   },
   "source": [
    "fig, ax = plt.subplots(figsize=(18, 8))\n",
    "diffs_to_random_behaviour = [\n",
    "    mannwhitneyu(experiments[\"Random behaviour\"], experiments[item]).pvalue\n",
    "    for item in experiments.keys()\n",
    "][1:]\n",
    "ax.set_xticklabels(list(experiments.keys())[1:])\n",
    "ax.set_title(\n",
    "    \"P value of Mann-Whitney U test between random behaviour and evolutionary algorithm\"\n",
    ")\n",
    "sns.barplot(diffs_to_random_behaviour, ax=ax)\n",
    "_ = ax.bar_label(ax.containers[0])\n",
    "fig.savefig(\"mann-whitney-results.png\", bbox_inches=\"tight\")"
   ],
   "outputs": []
  },
  {
   "metadata": {},
   "cell_type": "code",
   "execution_count": null,
   "source": "",
   "id": "762ec741039344f4",
   "outputs": []
  }
 ],
 "metadata": {
  "kernelspec": {
   "display_name": "Python 3",
   "language": "python",
   "name": "python3"
  },
  "language_info": {
   "codemirror_mode": {
    "name": "ipython",
    "version": 2
   },
   "file_extension": ".py",
   "mimetype": "text/x-python",
   "name": "python",
   "nbconvert_exporter": "python",
   "pygments_lexer": "ipython2",
   "version": "2.7.6"
  }
 },
 "nbformat": 4,
 "nbformat_minor": 5
}
